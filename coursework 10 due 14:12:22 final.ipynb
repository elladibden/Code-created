{
 "cells": [
  {
   "cell_type": "code",
   "execution_count": null,
   "id": "014cc7d8",
   "metadata": {
    "scrolled": true
   },
   "outputs": [],
   "source": [
    "import numpy as np\n",
    "import matplotlib.pyplot as plt\n",
    "import math\n",
    "\n",
    "x = float(input('Enter a value for x between -1 and 1 '))\n",
    "d = 0\n",
    "while d == 0:\n",
    "    if x<-1 or x>1:\n",
    "        x = float(input('x must be between -1 and 1, try again'))\n",
    "    else:\n",
    "        d = 1\n",
    "\n",
    "print('x is',x)\n",
    "\n",
    "x1 = np.sqrt(x+1)\n",
    "print('The root of 1+x is {:.10f}'.format(x1))\n",
    "x1value = [x1]*12\n",
    "\n",
    "nmax=12 #max value of n calculated to\n",
    "binomialx1= 1 #when n=0\n",
    "binomialpoints = []\n",
    "nvalue = []\n",
    "\n",
    "for n in range(1,nmax+1):\n",
    "    term = ((((-1)**n)*math.factorial(2*n))/(((1-(2*n))*(math.factorial(n))**2)*4**n))*x**n\n",
    "    binomialx1=binomialx1 + term\n",
    "    binomialpoints.append(binomialx1)\n",
    "    nvalue.append(n)\n",
    "    print ('Result to n =', n, 'is {:.10f}'.format(binomialx1))\n",
    "    \n",
    "\n",
    "    \n",
    "plt.plot(nvalue, binomialpoints)\n",
    "plt.xlabel('n values')\n",
    "plt.ylabel('sum of binomials')\n",
    "plt.plot(nvalue, x1value,linestyle='dashed')\n",
    "\n",
    "\n",
    "\n",
    "\n"
   ]
  },
  {
   "cell_type": "code",
   "execution_count": null,
   "id": "0926f846",
   "metadata": {},
   "outputs": [],
   "source": [
    "import math\n",
    "binomialx2 =1\n",
    "term1 = 1\n",
    "m =0\n",
    "while abs(term1) > 10**(-8):\n",
    "    m += 1\n",
    "    term1 = ((((-1)**m)*math.factorial(2*m))/(((1-(2*m))*(math.factorial(m))**2)*4**m))*x**m\n",
    "    binomialx2 = binomialx2 + term1\n",
    "    print ('Result to n =', m, 'is {:.8f}'.format(binomialx2))\n",
    "    \n",
    "    \n",
    "    \n",
    "\n",
    "\n"
   ]
  },
  {
   "cell_type": "code",
   "execution_count": null,
   "id": "c6cd404f",
   "metadata": {},
   "outputs": [],
   "source": [
    "#while loop is more efficient as converges quicker "
   ]
  },
  {
   "cell_type": "code",
   "execution_count": null,
   "id": "af9a525e",
   "metadata": {},
   "outputs": [],
   "source": []
  },
  {
   "cell_type": "code",
   "execution_count": null,
   "id": "f303945e",
   "metadata": {},
   "outputs": [],
   "source": []
  },
  {
   "cell_type": "code",
   "execution_count": null,
   "id": "8d8ec391",
   "metadata": {},
   "outputs": [],
   "source": []
  },
  {
   "cell_type": "code",
   "execution_count": null,
   "id": "ed37052a",
   "metadata": {},
   "outputs": [],
   "source": []
  },
  {
   "cell_type": "code",
   "execution_count": null,
   "id": "8d6a8a4f",
   "metadata": {},
   "outputs": [],
   "source": []
  },
  {
   "cell_type": "code",
   "execution_count": null,
   "id": "f687bfac",
   "metadata": {},
   "outputs": [],
   "source": []
  }
 ],
 "metadata": {
  "kernelspec": {
   "display_name": "Python 3 (ipykernel)",
   "language": "python",
   "name": "python3"
  },
  "language_info": {
   "codemirror_mode": {
    "name": "ipython",
    "version": 3
   },
   "file_extension": ".py",
   "mimetype": "text/x-python",
   "name": "python",
   "nbconvert_exporter": "python",
   "pygments_lexer": "ipython3",
   "version": "3.9.12"
  }
 },
 "nbformat": 4,
 "nbformat_minor": 5
}
